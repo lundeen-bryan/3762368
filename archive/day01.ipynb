{
 "cells": [
  {
   "cell_type": "markdown",
   "metadata": {},
   "source": [
    "## Introduction and Overview\n\n",
    "This is a project I created based on a course by Arthur Lemke at Salisbury University. His approach was to teach students how to write spatial SQL using SQLite. There are advantages to SQLite in that it is a single file that you can keep everything on and you can save it to a sharepoint library or a flashdrive and run everything from there. There isn't much of a problem using it for the course, but I wanted to make a significant change to the course by adding my own challenge; converting it to PostgreSQL. So almost all of the SQL queries will be written in PostgreSQL. \n\n",
    "The other tools in this course were Spatialite_gui and QGIS. Both of these tools are \"theoretically\" compatible with PostgreSQL, however, in practice I found Spatialite_gui doesn't really work well with PostgreSQL. So some of the exploratory data is written in spatialite to create the spatial connections to QGIS. Many or if not all of the QGIS queries and the charts and maps can be directly created using PostgreSQL in QGIS so that's what I did. I had to teach myself on the fly. \n\n",
    "## What will be covered in this notebook?\n\n",
    "By the way, I chose to create this in a Jupyter Notebook because it is easy to import it directly to a GIST and then post it in my blog or share it with someone. \n\n",
    "I will be covering the COVID-19 data collected during the peak of the outbreak in 2020-21. The sources might be updated in a later project."
   ]
  },
  {
   "cell_type": "markdown",
   "metadata": {},
   "source": [
    "## COVID Data Locations\n\n",
    "County COVID: [https://raw.githubusercontent.com/nytimes/covid-19-data/master/us-counties.csv](https://raw.githubusercontent.com/nytimes/covid-19-data/master/us-counties.csv)\n\n",
    "County data: [https://www.census.gov/data/datasets/time-series/demo/popest/2010s-counties-total.html](https://www.census.gov/data/datasets/time-series/demo/popest/2010s-counties-total.html)\n\n",
    "Boundaries (state, county, urban): [https://www.census.gov/geographies/mapping-files/time-series/geo/carto-boundary-file.html](https://www.census.gov/geographies/mapping-files/time-series/geo/carto-boundary-file.html)"
   ]
  },
  {
   "cell_type": "code",
   "metadata": {
    "connectionName": "covid"
   },
   "source": [
    "%%sql\n\n",
    "-- 01 Data for a particular state, and see the increase since the day before\n",
    "SELECT dt \"date\", hospitalizedcurrently \"in_hospital\", hospincrease\n",
    "FROM daily\n",
    "WHERE state = 'CA'\n",
    "AND hospitalizedcurrently > 20;"
   ]
  },
  {
   "cell_type": "markdown",
   "metadata": {},
   "source": [
    "`[Query Result]` 346 rows in set (0.01 sec)\n",
    "| ROW | date | in_hospital | hospincrease |\n",
    "| ---: | :---: | ---: | ---: |\n",
    "| 1 | 2021-03-07 00:00:00 | 4291 | 0 |\n",
    "| 2 | 2021-03-06 00:00:00 | 4513 | 0 |\n",
    "| 3 | 2021-03-05 00:00:00 | 4714 | 0 |\n",
    "| 4 | 2021-03-04 00:00:00 | 4967 | 0 |\n",
    "| 5 | 2021-03-03 00:00:00 | 5110 | 0 |\n",
    "| ... | ... | ... | ... |\n",
    "| 342 | 2020-03-31 00:00:00 | 1617 | 185 |\n",
    "| 343 | 2020-03-30 00:00:00 | 1432 | 398 |\n",
    "| 344 | 2020-03-29 00:00:00 | 1034 | 0 |\n",
    "| 345 | 2020-03-28 00:00:00 | 1034 | 288 |\n",
    "| 346 | 2020-03-27 00:00:00 | 746 | 746 |\n"
   ]
  },
  {
   "cell_type": "code",
   "metadata": {
    "connectionName": "covid"
   },
   "source": [
    "%%sql\n\n",
    "-- 02 Multiple States\n",
    "SELECT\n",
    "  dt \"Date\"\n",
    ", hospitalizedcurrently \"in hospital\"\n",
    "FROM\n",
    "  daily\n",
    "WHERE\n",
    "  state = 'MD'\n",
    "  OR state = 'FL'\n",
    "  OR state = 'NY';"
   ]
  },
  {
   "cell_type": "markdown",
   "metadata": {},
   "source": [
    "`[Query Result]` 1140 rows in set (0.01 sec)\n",
    "| ROW | Date | in hospital |\n",
    "| ---: | :---: | ---: |\n",
    "| 1 | 2021-03-07 00:00:00 | 3307 |\n",
    "| 2 | 2021-03-07 00:00:00 | 818 |\n",
    "| 3 | 2021-03-07 00:00:00 | 4789 |\n",
    "| 4 | 2021-03-06 00:00:00 | 3352 |\n",
    "| 5 | 2021-03-06 00:00:00 | 830 |\n",
    "| ... | ... | ... |\n",
    "| 1136 | 2020-02-03 00:00:00 |  |\n",
    "| 1137 | 2020-02-02 00:00:00 |  |\n",
    "| 1138 | 2020-02-01 00:00:00 |  |\n",
    "| 1139 | 2020-01-31 00:00:00 |  |\n",
    "| 1140 | 2020-01-30 00:00:00 |  |\n"
   ]
  },
  {
   "cell_type": "code",
   "metadata": {
    "connectionName": "covid"
   },
   "source": [
    "%%sql\n\n",
    "-- 03 multiple states, but easier\n\n",
    "SELECT\n",
    "  dt \"Date\"\n",
    ", hospitalizedcurrently \"In Hospital\"\n",
    "FROM\n",
    "  daily\n",
    "WHERE\n",
    "  state IN ('MD', 'FL', 'NY');"
   ]
  },
  {
   "cell_type": "markdown",
   "metadata": {},
   "source": [
    "`[Query Result]` 1140 rows in set (0.01 sec)\n",
    "| ROW | Date | In Hospital |\n",
    "| ---: | :---: | ---: |\n",
    "| 1 | 2021-03-07 00:00:00 | 3307 |\n",
    "| 2 | 2021-03-07 00:00:00 | 818 |\n",
    "| 3 | 2021-03-07 00:00:00 | 4789 |\n",
    "| 4 | 2021-03-06 00:00:00 | 3352 |\n",
    "| 5 | 2021-03-06 00:00:00 | 830 |\n",
    "| ... | ... | ... |\n",
    "| 1136 | 2020-02-03 00:00:00 |  |\n",
    "| 1137 | 2020-02-02 00:00:00 |  |\n",
    "| 1138 | 2020-02-01 00:00:00 |  |\n",
    "| 1139 | 2020-01-31 00:00:00 |  |\n",
    "| 1140 | 2020-01-30 00:00:00 |  |\n"
   ]
  },
  {
   "cell_type": "code",
   "metadata": {
    "connectionName": "covid"
   },
   "source": [
    "%%sql\n\n",
    "-- 04 top 10 dates and states for hospitalizations\n\n",
    "SELECT\n",
    "  dt \"Date\"\n",
    ", state\n",
    ", hospincrease \"New Increase\"\n",
    "FROM\n",
    "  daily\n",
    "ORDER BY\n",
    "  CAST(hospincrease AS INTEGER) DESC\n",
    "LIMIT\n",
    "  10;"
   ]
  },
  {
   "cell_type": "markdown",
   "metadata": {},
   "source": [
    "`[Query Result]` 10 rows in set (0.01 sec)\n",
    "| ROW | Date | state | New Increase |\n",
    "| ---: | :---: | :--- | ---: |\n",
    "| 1 | 2020-07-10 00:00:00 | FL | 6974 |\n",
    "| 2 | 2020-04-09 00:00:00 | MI | 3826 |\n",
    "| 3 | 2020-04-07 00:00:00 | IL | 3680 |\n",
    "| 4 | 2020-04-06 00:00:00 | NJ | 2390 |\n",
    "| 5 | 2020-04-11 00:00:00 | CA | 2339 |\n",
    "| 6 | 2020-04-14 00:00:00 | CA | 2148 |\n",
    "| 7 | 2020-04-07 00:00:00 | PA | 1665 |\n",
    "| 8 | 2020-04-25 00:00:00 | IN | 1515 |\n",
    "| 9 | 2020-05-01 00:00:00 | GA | 1500 |\n",
    "| 10 | 2020-04-21 00:00:00 | MD | 1433 |\n"
   ]
  },
  {
   "cell_type": "code",
   "metadata": {
    "connectionName": "covid"
   },
   "source": [
    "%%sql\n\n",
    "-- 05 TOP 10 dates and states for hospitalizations\n\n",
    "SELECT\n",
    "  dt \"Date\"\n",
    ", state\n",
    ", deathincrease \n",
    "FROM\n",
    "  daily\n",
    "ORDER BY\n",
    "  CAST(deathincrease AS INTEGER) DESC\n",
    "LIMIT\n",
    "  10;"
   ]
  },
  {
   "cell_type": "markdown",
   "metadata": {},
   "source": [
    "`[Query Result]` 10 rows in set (0.01 sec)\n",
    "| ROW | Date | state | deathincrease |\n",
    "| ---: | :---: | :--- | :--- |\n",
    "| 1 | 2020-12-28 00:00:00 | FL | 99 |\n",
    "| 2 | 2020-12-06 00:00:00 | IL | 99 |\n",
    "| 3 | 2021-02-17 00:00:00 | GA | 99 |\n",
    "| 4 | 2021-01-05 00:00:00 | TN | 99 |\n",
    "| 5 | 2020-12-20 00:00:00 | PA | 99 |\n",
    "| 6 | 2020-12-10 00:00:00 | IA | 99 |\n",
    "| 7 | 2021-02-24 00:00:00 | NJ | 99 |\n",
    "| 8 | 2021-02-20 00:00:00 | VA | 99 |\n",
    "| 9 | 2021-02-12 00:00:00 | PA | 99 |\n",
    "| 10 | 2020-11-25 00:00:00 | FL | 99 |\n"
   ]
  },
  {
   "cell_type": "code",
   "metadata": {
    "connectionName": "covid"
   },
   "source": [
    "%%sql\n\n",
    "-- 06 find data for a particular month for a state\n\n",
    "SELECT *\n",
    "FROM daily\n",
    "WHERE EXTRACT(MONTH FROM dt) = 7\n",
    "-- Filter for July (month number 7)\n\n",
    "-- filter by state (e.g., 'FL'), you can add:\n",
    "AND state = 'FL'\n",
    "LIMIT 5;"
   ]
  },
  {
   "cell_type": "markdown",
   "metadata": {},
   "source": [
    "`[Query Result]` 5 rows in set (0.01 sec)\n",
    "| ROW | date | state | positive | probablecases | negative | pending | totaltestresultssource | totaltestresults | hospitalizedcurrently | hospitalizedcumulative | inicucurrently | inicucumulative | onventilatorcurrently | onventilatorcumulative | recovered | lastupdateet | datemodified | checktimeet | death | hospitalized | hospitalizeddischarged | datechecked | totaltestsviral | positivetestsviral | negativetestsviral | positivecasesviral | deathconfirmed | deathprobable | totaltestencountersviral | totaltestspeopleviral | totaltestsantibody | positivetestsantibody | negativetestsantibody | totaltestspeopleantibody | positivetestspeopleantibody | negativetestspeopleantibody | totaltestspeopleantigen | positivetestspeopleantigen | totaltestsantigen | positivetestsantigen | fips | positiveincrease | negativeincrease | total | totaltestresultsincrease | posneg | dataqualitygrade | deathincrease | hospitalizedincrease | hash | commercialscore | negativeregularscore | negativescore | positivescore | score | grade | dt | hospincrease |\n",
    "| ---: | :--- | :--- | :--- | :--- | :--- | :--- | :--- | :--- | ---: | :--- | :--- | :--- | :--- | :--- | :--- | :--- | :--- | :--- | :--- | :--- | :--- | :--- | :--- | :--- | :--- | :--- | :--- | :--- | :--- | :--- | :--- | :--- | :--- | :--- | :--- | :--- | :--- | :--- | :--- | :--- | :--- | :--- | :--- | :--- | :--- | :--- | :--- | :--- | :--- | :--- | :--- | :--- | :--- | :--- | :---: | ---: |\n",
    "| 1 | 20200731 | FL | 463357 |  | 3157702 | 3363 | totalTestEncountersViral | 4493776 | 8209 | 26905 |  |  |  |  |  | 7/30/2020 23:59 | 2020-07-30T23:59:00Z | 07/30 19:59 | 6966 | 26905 |  | 2020-07-30T23:59:00Z | 4712187 | 592572 | 4099817 |  | 6966 |  | 4493776 | 3633393 | 358283 | 19175 | 339059 | 353026 | 18780 | 334221 |  |  |  |  | 12 | 8900 | 39964 | 3624422 | 82202 | 3621059 |  | 257 | 519 | 5d52acd136b2a74ac44b9beaee4b18a28e328738 | 0 | 0 | 0 | 0 | 0 |  | 2020-07-31 00:00:00 | 0 |\n",
    "| 2 | 20200730 | FL | 454457 |  | 3117738 | 3304 | totalTestEncountersViral | 4411574 | 8395 | 26386 |  |  |  |  |  | 7/29/2020 23:59 | 2020-07-29T23:59:00Z | 07/29 19:59 | 6709 | 26386 |  | 2020-07-29T23:59:00Z | 4635026 | 580808 | 4035319 |  | 6709 |  | 4411574 | 3584193 | 358283 | 19175 | 339059 | 353026 | 18780 | 334221 |  |  |  |  | 12 | 9835 | 42396 | 3575499 | 80116 | 3572195 |  | 252 | 519 | ed9604197b49d61e7e9da45b25dc8caf4bb787eb | 0 | 0 | 0 | 0 | 0 |  | 2020-07-30 00:00:00 | 0 |\n",
    "| 3 | 20200729 | FL | 444622 |  | 3075342 | 3220 | totalTestEncountersViral | 4331458 | 8720 | 25867 |  |  |  |  |  | 7/28/2020 23:59 | 2020-07-28T23:59:00Z | 07/28 19:59 | 6457 | 25867 |  | 2020-07-28T23:59:00Z | 4557000 | 567610 | 3971204 |  | 6457 |  | 4331458 | 3531721 |  |  |  | 353026 | 18780 | 334221 |  |  |  |  | 12 | 9320 | 37020 | 3523184 | 74521 | 3519964 |  | 217 | 587 | 1fbcb891f11ad3fcab0b3caf4c60a37a43b9dba8 | 0 | 0 | 0 | 0 | 0 |  | 2020-07-29 00:00:00 | 0 |\n",
    "| 4 | 20200728 | FL | 435302 |  | 3038322 | 3017 | totalTestEncountersViral | 4256937 | 8992 | 25280 |  |  |  |  |  | 7/27/2020 23:59 | 2020-07-27T23:59:00Z | 07/27 19:59 | 6240 | 25280 |  | 2020-07-27T23:59:00Z | 4485040 | 555415 | 3912374 |  | 6240 |  | 4256937 | 3485141 |  |  |  | 353026 | 18780 | 334221 |  |  |  |  | 12 | 9138 | 39572 | 3476641 | 76414 | 3473624 |  | 191 | 590 | a07431424d9df552356574ae43f0a25e16c20dc9 | 0 | 0 | 0 | 0 | 0 |  | 2020-07-28 00:00:00 | 0 |\n",
    "| 5 | 20200727 | FL | 426164 |  | 2998750 | 2902 | totalTestEncountersViral | 4180523 | 9098 | 24690 |  |  |  |  |  | 7/26/2020 23:59 | 2020-07-26T23:59:00Z | 07/26 19:59 | 6049 | 24690 |  | 2020-07-26T23:59:00Z | 4411284 | 542920 | 3851809 |  | 6049 |  | 4180523 | 3436270 |  |  |  | 353026 | 18780 | 334221 |  |  |  |  | 12 | 8804 | 36102 | 3427816 | 75332 | 3424914 |  | 77 | 269 | d7af5baee774314e3458ad4e3f9b9f168b99bcff | 0 | 0 | 0 | 0 | 0 |  | 2020-07-27 00:00:00 | 147 |\n"
   ]
  },
  {
   "cell_type": "code",
   "metadata": {
    "connectionName": "covid"
   },
   "source": [
    "%%sql\n\n",
    "-- 07 Show each state that has admits to the ICU\n",
    "SELECT \n",
    "CAST(inicucurrently AS INTEGER) \"In ICU\", state\n",
    "FROM daily d1\n",
    "WHERE EXTRACT(MONTH FROM dt) = 7\n",
    "-- Filter for July (month number 7)\n",
    "AND EXISTS (\n",
    "\tSELECT 1 FROM daily d2\n",
    "\tWHERE d2.hash = d1.hash\n",
    "\tAND d2.inicucurrently != ''\n",
    ")\n",
    "ORDER BY \"In ICU\" DESC;"
   ]
  },
  {
   "cell_type": "markdown",
   "metadata": {},
   "source": [
    "`[Query Result]` 884 rows in set (0.01 sec)\n",
    "| ROW | In ICU | state |\n",
    "| ---: | ---: | :--- |\n",
    "| 1 | 3281 | TX |\n",
    "| 2 | 3281 | TX |\n",
    "| 3 | 3281 | TX |\n",
    "| 4 | 3281 | TX |\n",
    "| 5 | 3281 | TX |\n",
    "| ... | ... | ... |\n",
    "| 880 | 2 | GU |\n",
    "| 881 | 2 | GU |\n",
    "| 882 | 2 | RI |\n",
    "| 883 | 2 | GU |\n",
    "| 884 | 2 | GU |\n"
   ]
  },
  {
   "cell_type": "code",
   "metadata": {
    "connectionName": "covid"
   },
   "source": [
    "%%sql\n\n",
    "SELECT pg_typeof(positiveincrease) AS data_type\n",
    "FROM daily\n",
    "LIMIT 1;  -- Limiting to 1 row to get the data type of the first row"
   ]
  },
  {
   "cell_type": "markdown",
   "metadata": {},
   "source": [
    "Note that the data of positiveincrease comes in a text data from the web. \n",
    "`[Query Result]` 1 row in set (0.00 sec)\n",
    "| ROW | data_type |\n",
    "| ---: | :---: |\n",
    "| 1 | text |\n"
   ]
  },
  {
   "cell_type": "markdown",
   "metadata": {},
   "source": [
    "### Notes about query 8\n\n",
    "I wanted to see the percentage and in descending order. The source data is text, this causes a few problems when trying to cast it to a number and also doesn't look great. Using Postgres in this case gives more flexibility in the way numbers are displayed, however, I could not substitute a variable for the state as I would have using SQL Server. Nonetheless, the cell below displays the positivity rate per day and per state."
   ]
  },
  {
   "cell_type": "code",
   "metadata": {
    "connectionName": "covid"
   },
   "source": [
    "%%sql\n\n",
    "-- 08 What is the positivity rate by a particular day?\n\n",
    "SELECT\n",
    "  dt AS DATE\n",
    ", totaltestresultsincrease \"Increases by Test Results\"\n",
    ", positiveincrease\n",
    ", negativeincrease\n",
    ",TO_CHAR ( COALESCE( CAST(positiveincrease AS REAL) / NULLIF(CAST(totaltestresultsincrease AS REAL),0) ,0 ) * 100 ,'FM999999990.99' ) || '%' AS positiv_pct\n",
    "FROM daily\n",
    "WHERE 1 = 1\n",
    "AND state = 'MD'\n",
    "ORDER BY COALESCE(CAST(positiveincrease AS REAL) / NULLIF(CAST(totaltestresultsincrease AS REAL ), 0) , 0) DESC\n",
    "LIMIT 25;"
   ]
  },
  {
   "cell_type": "markdown",
   "metadata": {},
   "source": [
    "`[Query Result]` 25 rows in set (0.01 sec)\n",
    "| ROW | date | Increases by Test Results | positiveincrease | negativeincrease | positiv_pct |\n",
    "| ---: | :---: | :--- | :--- | :--- | :--- |\n",
    "| 1 | 2020-04-14 00:00:00 | 1583 | 536 | 1446 | 33.86% |\n",
    "| 2 | 2020-05-01 00:00:00 | 5278 | 1730 | 4894 | 32.78% |\n",
    "| 3 | 2020-05-19 00:00:00 | 5757 | 1784 | 5368 | 30.99% |\n",
    "| 4 | 2020-04-25 00:00:00 | 4486 | 1150 | 3257 | 25.64% |\n",
    "| 5 | 2020-04-23 00:00:00 | 3906 | 962 | 2609 | 24.63% |\n",
    "| ... | ... | ... | ... | ... |\n",
    "| 21 | 2020-04-11 00:00:00 | 3632 | 726 | 2064 | 19.99% |\n",
    "| 22 | 2020-04-10 00:00:00 | 3924 | 783 | 2136 | 19.95% |\n",
    "| 23 | 2020-05-02 00:00:00 | 5128 | 1001 | 3538 | 19.52% |\n",
    "| 24 | 2020-04-18 00:00:00 | 3776 | 736 | 2625 | 19.49% |\n",
    "| 25 | 2020-04-19 00:00:00 | 2739 | 522 | 1999 | 19.06% |\n"
   ]
  },
  {
   "cell_type": "code",
   "metadata": {
    "connectionName": "covid"
   },
   "source": [
    "%%sql\n\n",
    "-- 09 What is the Positivity rate for patients in the ICU?\n",
    "SELECT\n",
    "  dt \"Date\"\n",
    ", hospitalizedcurrently \"Currently Hospitalized\"\n",
    ", inicucurrently \"Currently in ICU\"\n",
    ", TO_CHAR (\n",
    "    COALESCE(\n",
    "      CAST(inicucurrently AS DOUBLE PRECISION) / NULLIF(hospitalizedcurrently, 0)\n",
    "    , 0\n",
    "    )\n",
    "  , 'FM999999990.99'\n",
    "  ) AS \"Percent in ICU\"\n",
    "FROM\n",
    "  daily\n",
    "WHERE\n",
    "  state = 'NY'\n",
    "  AND CAST(inicucurrently AS DOUBLE PRECISION) / NULLIF(hospitalizedcurrently, 0) > 0\n",
    "ORDER BY\n",
    "  CAST(inicucurrently AS DOUBLE PRECISION) / NULLIF(hospitalizedcurrently, 0) DESC\n",
    ", dt\n",
    "LIMIT 75;"
   ]
  },
  {
   "cell_type": "markdown",
   "metadata": {},
   "source": [
    "We can see there's not a lot of variability for the first 75 rows. \n\n",
    "`[Query Result]` 75 rows in set (0.01 sec)\n",
    "| ROW | Date | Currently Hospitalized | Currently in ICU | Percent in ICU |\n",
    "| ---: | :---: | ---: | :--- | :--- |\n",
    "| 1 | 2020-05-03 00:00:00 | 9786 | 3430 | 0.35 |\n",
    "| 2 | 2020-05-04 00:00:00 | 9647 | 3330 | 0.35 |\n",
    "| 3 | 2020-05-07 00:00:00 | 8665 | 2976 | 0.34 |\n",
    "| 4 | 2020-05-08 00:00:00 | 8196 | 2811 | 0.34 |\n",
    "| 5 | 2020-05-10 00:00:00 | 7262 | 2488 | 0.34 |\n",
    "| ... | ... | ... | ... | ... |\n",
    "| 71 | 2020-06-08 00:00:00 | 2371 | 678 | 0.29 |\n",
    "| 72 | 2020-04-16 00:00:00 | 17735 | 5071 | 0.29 |\n",
    "| 73 | 2020-06-18 00:00:00 | 1358 | 388 | 0.29 |\n",
    "| 74 | 2020-09-16 00:00:00 | 483 | 138 | 0.29 |\n",
    "| 75 | 2020-06-11 00:00:00 | 2042 | 581 | 0.28 |\n"
   ]
  },
  {
   "cell_type": "code",
   "metadata": {
    "connectionName": "covid"
   },
   "source": [
    "%%sql\n\n",
    "-- 10 (for a chart) What is the Positivity rate for patients in the ICU?\n",
    "SELECT\n",
    "  dt \"Date\"\n",
    ", CAST(inicucurrently AS DOUBLE PRECISION) / NULLIF(hospitalizedcurrently, 0) \"ICU Percentage\"\n",
    "FROM\n",
    "  daily\n",
    "WHERE\n",
    "  state = 'NY'\n",
    "  AND CAST(inicucurrently AS DOUBLE PRECISION) / NULLIF(hospitalizedcurrently, 0) > 0\n",
    "ORDER BY\n",
    "  CAST(inicucurrently AS DOUBLE PRECISION) / NULLIF(hospitalizedcurrently, 0) DESC\n",
    ", dt;"
   ]
  },
  {
   "cell_type": "markdown",
   "metadata": {},
   "source": [
    "All 347 results are shown in this chart showing various peaks and valleys. \n\n",
    "![Chart](res/2024-06-27-17-48-57.png)"
   ]
  },
  {
   "cell_type": "code",
   "metadata": {
    "connectionName": "covid"
   },
   "source": [
    "%%sql\n\n",
    "-- 11. Percent Admitted to the ICU for a particular month\n\n",
    "SELECT\n",
    "  dt \"Date\"\n",
    ", hospitalizedcurrently \"Hospitalized\"\n",
    ", inicucurrently \"ICU Pts\"\n",
    "-- , CAST(inicucurrently AS DOUBLE PRECISION) / CAST(hospitalizedcurrently AS DOUBLE PRECISION) AS \"Percent in ICU\"\n",
    ", TO_CHAR((CAST(inicucurrently AS DOUBLE PRECISION) / CAST(hospitalizedcurrently AS DOUBLE PRECISION)) * 100, 'FM999.00') || '%' AS \"Percent in ICU\"\n",
    "FROM\n",
    "  daily\n",
    "WHERE\n",
    "  state = 'NY'\n",
    "  AND CAST(inicucurrently AS DOUBLE PRECISION) / CAST(hospitalizedcurrently AS DOUBLE PRECISION) > 0\n",
    "  AND EXTRACT(\n",
    "    MONTH\n",
    "    FROM\n",
    "      dt:: DATE\n",
    "  ) = 12\n",
    "ORDER BY\n",
    "  dt;"
   ]
  },
  {
   "cell_type": "markdown",
   "metadata": {},
   "source": [
    "`[Query Result]` 31 rows in set (0.01 sec)\n",
    "| ROW | Date | Hospitalized | ICU Pts | Percent in ICU |\n",
    "| ---: | :---: | ---: | :--- | :--- |\n",
    "| 1 | 2020-12-01 00:00:00 | 3774 | 718 | 19.02% |\n",
    "| 2 | 2020-12-02 00:00:00 | 3924 | 742 | 18.91% |\n",
    "| 3 | 2020-12-03 00:00:00 | 4063 | 783 | 19.27% |\n",
    "| 4 | 2020-12-04 00:00:00 | 4222 | 795 | 18.83% |\n",
    "| 5 | 2020-12-05 00:00:00 | 4318 | 825 | 19.11% |\n",
    "| ... | ... | ... | ... | ... |\n",
    "| 27 | 2020-12-27 00:00:00 | 7183 | 1187 | 16.53% |\n",
    "| 28 | 2020-12-28 00:00:00 | 7559 | 1222 | 16.17% |\n",
    "| 29 | 2020-12-29 00:00:00 | 7814 | 1224 | 15.66% |\n",
    "| 30 | 2020-12-30 00:00:00 | 7892 | 1250 | 15.84% |\n",
    "| 31 | 2020-12-31 00:00:00 | 7935 | 1276 | 16.08% |\n"
   ]
  },
  {
   "cell_type": "code",
   "metadata": {
    "connectionName": "covid"
   },
   "source": [
    "%%sql\n\n",
    "-- 12. (for a chart) Percent Admitted to the ICU for a particular month\n\n",
    "SELECT\n",
    "  dt \"Date\"\n",
    ", CAST(inicucurrently AS DOUBLE PRECISION) / CAST(hospitalizedcurrently AS DOUBLE PRECISION) AS \"Percent in ICU\"\n",
    "FROM\n",
    "  daily\n",
    "WHERE\n",
    "  state = 'NY'\n",
    "  AND CAST(inicucurrently AS DOUBLE PRECISION) / CAST(hospitalizedcurrently AS DOUBLE PRECISION) > 0\n",
    "  AND EXTRACT(\n",
    "    MONTH\n",
    "    FROM\n",
    "      dt:: DATE\n",
    "  ) = 12\n",
    "ORDER BY\n",
    "  dt;"
   ]
  },
  {
   "cell_type": "markdown",
   "metadata": {},
   "source": [
    "`[Query Result]` 31 rows in set (0.01 sec)\n",
    "| ROW | Date | Percent in ICU |\n",
    "| ---: | :---: | ---: |\n",
    "| 1 | 2020-12-01 00:00:00 | 0.1902490726020138 |\n",
    "| 2 | 2020-12-02 00:00:00 | 0.1890927624872579 |\n",
    "| 3 | 2020-12-03 00:00:00 | 0.19271474280088605 |\n",
    "| 4 | 2020-12-04 00:00:00 | 0.18829938417811465 |\n",
    "| 5 | 2020-12-05 00:00:00 | 0.19106067623899953 |\n",
    "| ... | ... | ... |\n",
    "| 27 | 2020-12-27 00:00:00 | 0.1652512877627732 |\n",
    "| 28 | 2020-12-28 00:00:00 | 0.16166159544913347 |\n",
    "| 29 | 2020-12-29 00:00:00 | 0.15664192475044791 |\n",
    "| 30 | 2020-12-30 00:00:00 | 0.15838824125696907 |\n",
    "| 31 | 2020-12-31 00:00:00 | 0.16080655324511658 |\n"
   ]
  },
  {
   "cell_type": "code",
   "metadata": {
    "connectionName": "covid"
   },
   "source": [
    "%%sql\n\n",
    "-- 12. Percent in ICU for All states (using a CTE to handle null values)\n\n",
    "WITH\n",
    "  icu_percentage_calc AS (\n",
    "    SELECT\n",
    "      state \n",
    "    , inicucurrently\n",
    "    , hospitalizedcurrently\n",
    "    , CAST(inicucurrently AS DOUBLE PRECISION) / NULLIF(CAST(hospitalizedcurrently AS DOUBLE PRECISION), 0) AS icu_percentage\n",
    "    FROM\n",
    "      daily\n",
    "  )\n",
    "SELECT\n",
    "  state \"State\"\n",
    ", inicucurrently \"In ICU\"\n",
    ", hospitalizedcurrently \"Hospitalized\"\n",
    ", icu_percentage \"ICU Percentage\"\n",
    ", TO_CHAR (icu_percentage * 100, 'FM999.00') || '%' AS \"ICU Percentage (Formatted)\"\n",
    "FROM\n",
    "  icu_percentage_calc\n",
    "WHERE\n",
    "  icu_percentage > 0\n",
    "  AND icu_percentage < 1\n",
    "ORDER BY\n",
    "  icu_percentage DESC;"
   ]
  },
  {
   "cell_type": "markdown",
   "metadata": {},
   "source": [
    "`[Query Result]` 11473 rows in set (0.07 sec)\n",
    "| ROW | State | In ICU | Hospitalized | ICU Percentage | ICU Percentage (Formatted) |\n",
    "| ---: | :--- | :--- | ---: | ---: | :--- |\n",
    "| 1 | ME | 11 | 12 | 0.9166666666666666 | 91.67% |\n",
    "| 2 | ME | 9 | 10 | 0.9 | 90.00% |\n",
    "| 3 | ME | 8 | 9 | 0.8888888888888888 | 88.89% |\n",
    "| 4 | OK | 143 | 161 | 0.8881987577639752 | 88.82% |\n",
    "| 5 | ME | 6 | 7 | 0.8571428571428571 | 85.71% |\n",
    "| ... | ... | ... | ... | ... |\n",
    "| 11469 | KS | 2 | 403 | 0.004962779156327543 | .50% |\n",
    "| 11470 | KS | 2 | 403 | 0.004962779156327543 | .50% |\n",
    "| 11471 | KS | 2 | 403 | 0.004962779156327543 | .50% |\n",
    "| 11472 | KS | 1 | 329 | 0.00303951367781155 | .30% |\n",
    "| 11473 | KS | 1 | 329 | 0.00303951367781155 | .30% |\n"
   ]
  },
  {
   "cell_type": "code",
   "metadata": {
    "connectionName": "covid"
   },
   "source": [
    "%%sql\n\n",
    "-- 13. Positive, negative and deaths by state\n\n",
    "SELECT state\n",
    ", SUM(CAST(positiveIncrease AS INTEGER)) AS positive\n",
    ", SUM(CAST(totalTestResultsIncrease AS INTEGER) - CAST(positiveIncrease AS INTEGER)) negative\n",
    ", SUM(CAST(deathIncrease AS INTEGER)) AS deaths\n",
    "FROM daily\n",
    "GROUP BY state;"
   ]
  },
  {
   "cell_type": "markdown",
   "metadata": {},
   "source": [
    "`[Query Result]` 56 rows in set (0.02 sec)\n",
    "| ROW | state | positive | negative | deaths |\n",
    "| ---: | :--- | ---: | ---: | ---: |\n",
    "| 1 | CA | 3501341 | 46144158 | 54124 |\n",
    "| 2 | NH | 76859 | 1420320 | 1184 |\n",
    "| 3 | OR | 157079 | 3693894 | 2296 |\n",
    "| 4 | TX | 2686818 | 17220560 | 44451 |\n",
    "| 5 | ND | 100391 | 1324755 | 1478 |\n",
    "| ... | ... | ... | ... | ... |\n",
    "| 52 | VA | 585700 | 5452509 | 9596 |\n",
    "| 53 | AS | 0 | 2140 | 0 |\n",
    "| 54 | DE | 88354 | 1343588 | 1473 |\n",
    "| 55 | AZ | 826452 | 7081620 | 16328 |\n",
    "| 56 | KS | 295861 | 974682 | 4812 |\n"
   ]
  },
  {
   "cell_type": "code",
   "metadata": {
    "connectionName": "covid"
   },
   "source": [
    "%%sql\n\n",
    "-- 14. Hospitalizations for multiple states\n\n",
    "SELECT\n",
    "  dt \"Date\"\n",
    ", state \"State\"\n",
    ", MAX(CAST(hospitalizedcurrently AS INTEGER)) \"Hospitalized\"\n",
    "FROM\n",
    "  daily\n",
    "WHERE\n",
    "  state IN ('NY', 'NJ', 'CT', 'AZ')\n",
    "  AND EXTRACT(\n",
    "    MONTH\n",
    "    FROM\n",
    "      dt:: DATE\n",
    "  ) = 7\n",
    "GROUP BY\n",
    "  state\n",
    ", dt;"
   ]
  },
  {
   "cell_type": "markdown",
   "metadata": {},
   "source": [
    "`[Query Result]` 124 rows in set (0.01 sec)\n",
    "| ROW | Date | State | Hospitalized |\n",
    "| ---: | :---: | :--- | ---: |\n",
    "| 1 | 2020-07-01 00:00:00 | AZ | 2876 |\n",
    "| 2 | 2020-07-02 00:00:00 | AZ | 2938 |\n",
    "| 3 | 2020-07-03 00:00:00 | AZ | 3013 |\n",
    "| 4 | 2020-07-04 00:00:00 | AZ | 3113 |\n",
    "| 5 | 2020-07-05 00:00:00 | AZ | 3182 |\n",
    "| ... | ... | ... | ... |\n",
    "| 120 | 2020-07-27 00:00:00 | NY | 642 |\n",
    "| 121 | 2020-07-28 00:00:00 | NY | 648 |\n",
    "| 122 | 2020-07-29 00:00:00 | NY | 619 |\n",
    "| 123 | 2020-07-30 00:00:00 | NY | 586 |\n",
    "| 124 | 2020-07-31 00:00:00 | NY | 576 |\n"
   ]
  },
  {
   "cell_type": "code",
   "metadata": {
    "connectionName": "covid"
   },
   "source": [
    "%%sql\n\n",
    "-- 15. Testing by month for a state\n\n",
    "SELECT\n",
    "  TO_CHAR (dt:: DATE, 'MM') AS \"Month\"\n",
    ", TO_CHAR (dt:: DATE, 'YYYY') AS \"Year\"\n",
    ", SUM(CAST(totaltestresultsincrease AS INTEGER)) AS \"Total Testing Increase\"\n",
    "FROM\n",
    "  daily\n",
    "WHERE\n",
    "  state = 'NY'\n",
    "GROUP BY\n",
    "  TO_CHAR (dt:: DATE, 'YYYY')\n",
    ", TO_CHAR (dt:: DATE, 'MM')\n",
    "ORDER BY\n",
    "  TO_CHAR (dt:: DATE, 'YYYY')\n",
    ", TO_CHAR (dt:: DATE, 'MM');"
   ]
  },
  {
   "cell_type": "markdown",
   "metadata": {},
   "source": [
    "`[Query Result]` 13 rows in set (0.01 sec)\n",
    "| ROW | Month | Year | Total Testing Increase |\n",
    "| ---: | :--- | :--- | ---: |\n",
    "| 1 | 03 | 2020 | 205233 |\n",
    "| 2 | 04 | 2020 | 695403 |\n",
    "| 3 | 05 | 2020 | 1163189 |\n",
    "| 4 | 06 | 2020 | 1851113 |\n",
    "| 5 | 07 | 2020 | 1974299 |\n",
    "| ... | ... | ... | ... |\n",
    "| 9 | 11 | 2020 | 4893780 |\n",
    "| 10 | 12 | 2020 | 5863562 |\n",
    "| 11 | 01 | 2021 | 6876691 |\n",
    "| 12 | 02 | 2021 | 5945164 |\n",
    "| 13 | 03 | 2021 | 1588185 |\n"
   ]
  },
  {
   "cell_type": "code",
   "metadata": {
    "connectionName": "covid"
   },
   "source": [
    "%%sql\n\n",
    "-- 16. Find the relationship of positive and negative tests for a state and date\n\n",
    "SELECT\n",
    "  negativeincrease AS \"Negative Increase\"\n",
    ", CAST(totalTestResultsIncrease AS INTEGER) - CAST(positiveincrease AS INTEGER) AS \"Positive Increase\"\n",
    ", CAST(positiveincrease AS DOUBLE PRECISION) / NULLIF(\n",
    "    CAST(totalTestResultsIncrease AS DOUBLE PRECISION)\n",
    "  , 0\n",
    "  ) AS \"Percent Positive\"\n",
    ", TO_CHAR ((\n",
    "      CAST(positiveincrease AS DOUBLE PRECISION) / NULLIF(\n",
    "        CAST(totalTestResultsIncrease AS DOUBLE PRECISION)\n",
    "      , 0\n",
    "      )\n",
    "    ) * 100\n",
    "  , 'FM999.00'\n",
    "  ) || '%' AS \"Percent Positive (Formatted)\"\n",
    "FROM\n",
    "  daily\n",
    "WHERE\n",
    "  1 = 1\n",
    "  AND dt BETWEEN '2020-08-07' AND '2020-09-07'\n",
    "  AND state = 'MD'\n",
    "ORDER BY\n",
    "  dt DESC;"
   ]
  },
  {
   "cell_type": "markdown",
   "metadata": {},
   "source": [
    "`[Query Result]` 32 rows in set (0.01 sec)\n",
    "| ROW | Negative Increase | Positive Increase | Percent Positive | Percent Positive (Formatted) |\n",
    "| ---: | :--- | ---: | ---: | :--- |\n",
    "| 1 | 11101 | 21606 | 0.03415288332588288 | 3.42% |\n",
    "| 2 | 8357 | 16211 | 0.030616516175327395 | 3.06% |\n",
    "| 3 | 12214 | 27416 | 0.027525539160045402 | 2.75% |\n",
    "| 4 | 13041 | 28614 | 0.02782590969320151 | 2.78% |\n",
    "| 5 | 11266 | 24267 | 0.027764423076923075 | 2.78% |\n",
    "| ... | ... | ... | ... | ... |\n",
    "| 28 | 10064 | 16560 | 0.03412073490813648 | 3.41% |\n",
    "| 29 | 16710 | 28777 | 0.025565488283895436 | 2.56% |\n",
    "| 30 | 18900 | 39750 | 0.022669158143194337 | 2.27% |\n",
    "| 31 | 11924 | 20032 | 0.037247080309511224 | 3.72% |\n",
    "| 32 | 13882 | 27782 | 0.02802365042157926 | 2.80% |\n"
   ]
  },
  {
   "cell_type": "code",
   "metadata": {
    "connectionName": "covid"
   },
   "source": [
    "%%sql\n\n",
    "-- 17. Weekly Positive Rate for a State\n",
    "SELECT\n",
    "    EXTRACT(WEEK FROM dt::DATE) AS \"Week\"\n",
    "  , SUM(CAST(positiveincrease AS INTEGER)) AS \"Total Positive\"\n",
    "  , SUM(CAST(totaltestresultsincrease AS INTEGER) - CAST(positiveincrease AS INTEGER)) AS \"Total Negative\"\n",
    "  , SUM(CAST(totaltestresultsincrease AS INTEGER)) AS \"Total Tests\"\n",
    "  , CAST(SUM(CAST(positiveincrease AS INTEGER)) AS DOUBLE PRECISION) / NULLIF(SUM(CAST(totaltestresultsincrease AS INTEGER)), 0) AS \"Positive Rate\"\n",
    "  , TO_CHAR((CAST(SUM(CAST(positiveincrease AS INTEGER)) AS DOUBLE PRECISION) / NULLIF(SUM(CAST(totaltestresultsincrease AS INTEGER)), 0)) * 100, 'FM999.00') || '%' AS \"Formatted Positive Rate\"\n",
    "FROM\n",
    "  daily\n",
    "WHERE\n",
    "  state = 'NY'\n",
    "GROUP BY\n",
    "  EXTRACT(WEEK FROM dt::DATE)\n",
    "ORDER BY\n",
    "  EXTRACT(WEEK FROM dt::DATE);"
   ]
  },
  {
   "cell_type": "markdown",
   "metadata": {},
   "source": [
    "![Chart](res/2024-06-28-06-19-57.png)"
   ]
  },
  {
   "cell_type": "markdown",
   "metadata": {},
   "source": [
    "### A comment on why there are 53 weeks listed\n\n",
    "---\n\n",
    "**Why Some Years Have 53 Weeks:**\n\n",
    "The ISO week date system, which is used to number weeks, can result in some years having 53 weeks instead of the usual 52. This happens because:\n\n",
    "1. Weeks start on Monday.\n",
    "2. The first week of the year is the one that contains the first Thursday of the year.\n\n",
    "As a result, certain years have 53 weeks if:\n",
    "- The year starts on a Thursday.\n",
    "- The year starts on a Wednesday in a leap year.\n\n",
    "For example, the year 2020 had 53 weeks because January 1, 2020, was a Wednesday, and the first Thursday was January 2, 2020. Therefore, week 1 of 2020 started on December 30, 2019, and ended on January 5, 2020.\n\n",
    "To verify the number of weeks in each year, you can run a query that counts the distinct weeks per year in the dataset:\n\n",
    "```sql\n",
    "SELECT\n",
    "  EXTRACT(YEAR FROM dt::DATE) AS year,\n",
    "  COUNT(DISTINCT EXTRACT(WEEK FROM dt::DATE)) AS week_count\n",
    "FROM\n",
    "  daily\n",
    "GROUP BY\n",
    "  EXTRACT(YEAR FROM dt::DATE)\n",
    "ORDER BY\n",
    "  year;\n",
    "```\n\n",
    "This query will help identify which years have 53 weeks.\n\n",
    "Note: PostgreSQL uses the ISO week date system, which starts on Monday."
   ]
  },
  {
   "cell_type": "code",
   "metadata": {
    "connectionName": "covid"
   },
   "source": [
    "%%sql\n\n",
    "-- 18. Monthly Positive Rate for a State\n\n",
    "SELECT\n",
    "    EXTRACT(MONTH FROM dt::DATE) AS \"Month\"\n",
    "  , SUM(CAST(positiveincrease AS INTEGER)) AS \"Total Positive\"\n",
    "  , SUM(CAST(totaltestresultsincrease AS INTEGER) - CAST(positiveincrease AS INTEGER)) AS \"Total Negative\"\n",
    "  , SUM(CAST(totaltestresultsincrease AS INTEGER)) AS \"Total Tests\"\n",
    "  , CAST(SUM(CAST(positiveincrease AS INTEGER)) AS DOUBLE PRECISION) / NULLIF(SUM(CAST(totaltestresultsincrease AS INTEGER)), 0) AS \"Positive Rate\"\n",
    "  , TO_CHAR((CAST(SUM(CAST(positiveincrease AS INTEGER)) AS DOUBLE PRECISION) / NULLIF(SUM(CAST(totaltestresultsincrease AS INTEGER)), 0)) * 100, 'FM999.00') || '%' AS \"Positive Rate (Formatted)\"\n",
    "FROM\n",
    "  daily\n",
    "WHERE\n",
    "  state = 'NY'\n",
    "GROUP BY\n",
    "  EXTRACT(MONTH FROM dt::DATE)\n",
    "ORDER BY\n",
    "  EXTRACT(MONTH FROM dt::DATE);"
   ]
  },
  {
   "cell_type": "code",
   "metadata": {
    "connectionName": "covid"
   },
   "source": [
    "%%sql\n\n",
    "-- 19. Yearly Positive Rate for a State\n\n",
    "SELECT\n",
    "    EXTRACT(YEAR FROM dt::DATE) AS \"Year\"\n",
    "  , SUM(CAST(positiveincrease AS INTEGER)) AS \"Total Positive\"\n",
    "  , SUM(CAST(totaltestresultsincrease AS INTEGER) - CAST(positiveincrease AS INTEGER)) AS \"Total Negative\"\n",
    "  , SUM(CAST(totaltestresultsincrease AS INTEGER)) AS \"Total Tests\"\n",
    "  , CAST(SUM(CAST(positiveincrease AS INTEGER)) AS DOUBLE PRECISION) / NULLIF(SUM(CAST(totaltestresultsincrease AS INTEGER)), 0) AS \"Positive Rate\"\n",
    "  , TO_CHAR((CAST(SUM(CAST(positiveincrease AS INTEGER)) AS DOUBLE PRECISION) / NULLIF(SUM(CAST(totaltestresultsincrease AS INTEGER)), 0)) * 100, 'FM999.00') || '%' AS \"Positive Rate (Formatted)\"\n",
    "FROM\n",
    "  daily\n",
    "WHERE\n",
    "  state = 'NY'\n",
    "GROUP BY\n",
    "  EXTRACT(YEAR FROM dt::DATE)\n",
    "ORDER BY\n",
    "  EXTRACT(YEAR FROM dt::DATE);"
   ]
  },
  {
   "cell_type": "code",
   "metadata": {
    "connectionName": "covid"
   },
   "source": [
    "%%sql\n\n",
    "-- 20. How many days had more than 50 deaths for a state\n\n",
    "SELECT COUNT(*) AS \"Death Increase by State\"\n",
    "FROM daily\n",
    "WHERE CAST(deathincrease AS INTEGER) > 50\n",
    "AND state = 'FL';"
   ]
  },
  {
   "cell_type": "code",
   "metadata": {
    "connectionName": "covid"
   },
   "source": [
    "%%sql\n\n",
    "-- 21. Average, standard deviation, and coefficient of variation for a\n",
    "--     state\n\n",
    "WITH monthly_positive_cases AS (\n",
    "    SELECT\n",
    "        state AS st\n",
    "      , TO_CHAR(dt::DATE, 'MM') AS mnth\n",
    "      , SUM(CAST(positiveincrease AS DOUBLE PRECISION)) AS poscases\n",
    "    FROM\n",
    "        daily\n",
    "    WHERE\n",
    "        state = 'NY'\n",
    "    GROUP BY\n",
    "        state\n",
    "      , TO_CHAR(dt::DATE, 'MM')\n",
    ")\n\n",
    "SELECT\n",
    "    st AS \"State\"\n",
    "  , AVG(poscases) AS \"Average Positive Cases\"\n",
    "  , STDDEV_SAMP(poscases) AS \"Standard Deviation of Positive Cases\"\n",
    "  , STDDEV_SAMP(poscases) / NULLIF(AVG(poscases), 0) AS \"Coefficient of Variation\"\n",
    "FROM\n",
    "    monthly_positive_cases\n",
    "GROUP BY\n",
    "    st;"
   ]
  },
  {
   "cell_type": "code",
   "metadata": {
    "connectionName": "covid"
   },
   "source": [
    "%%sql\n\n",
    "-- 22. Deaths for a specific county\n\n",
    "SELECT\n",
    "  *\n",
    "FROM\n",
    "  covidcounty\n",
    "WHERE\n",
    "  state = 'Maryland'\n",
    "  AND county IN ('Wicomico', 'Somerset', 'Worcester');"
   ]
  },
  {
   "cell_type": "markdown",
   "metadata": {},
   "source": [
    "`[Query Result]` 2352 rows in set (0.14 sec)\n",
    "| ROW | date | county | state | fips | cases | deaths | id | id1 | newdeaths |\n",
    "| ---: | :--- | :--- | :--- | :--- | :--- | :--- | ---: | ---: | :--- |\n",
    "| 1 | 2020-03-20 | Wicomico | Maryland | 24045 | 1 | 0 | 948966 | 948967 | 0 |\n",
    "| 2 | 2020-03-22 | Somerset | Maryland | 24039 | 1 | 0 | 945065 | 945066 | 0 |\n",
    "| 3 | 2020-03-23 | Somerset | Maryland | 24039 | 1 | 0 | 945066 | 945067 | 0 |\n",
    "| 4 | 2020-03-24 | Somerset | Maryland | 24039 | 1 | 0 | 945067 | 945068 | 0 |\n",
    "| 5 | 2020-03-25 | Somerset | Maryland | 24039 | 1 | 0 | 945068 | 945069 | 0 |\n",
    "| ... | ... | ... | ... | ... | ... | ... | ... | ... | ... |\n",
    "| 2348 | 2022-05-09 | Worcester | Maryland | 24047 | 8762 | 160 | 950531 | 950532 | 0 |\n",
    "| 2349 | 2022-05-10 | Worcester | Maryland | 24047 | 8787 | 160 | 950532 | 950533 | 0 |\n",
    "| 2350 | 2022-05-11 | Worcester | Maryland | 24047 | 8797 | 160 | 950533 | 950534 | 0 |\n",
    "| 2351 | 2022-05-12 | Worcester | Maryland | 24047 | 8813 | 160 | 950534 | 950535 | 0 |\n",
    "| 2352 | 2022-05-13 | Worcester | Maryland | 24047 | 8826 | 160 | 950535 | 950536 | 0 |\n"
   ]
  },
  {
   "cell_type": "code",
   "metadata": {
    "connectionName": "covid"
   },
   "source": [
    "%%sql\n\n",
    "-- 23.\n",
    "-- Total deaths by county for state\n\n",
    "SELECT county, sum(newdeaths::numeric) AS deaths\n",
    "FROM covidcounty\n",
    "WHERE state = 'Maryland'\n",
    "GROUP BY county\n",
    "ORDER BY deaths DESC;"
   ]
  },
  {
   "cell_type": "markdown",
   "metadata": {},
   "source": [
    "`[Query Result]` 25 rows in set (0.13 sec)\n",
    "| ROW | county | deaths |\n",
    "| ---: | :--- | ---: |\n",
    "| 1 | Baltimore | 2484 |\n",
    "| 2 | Prince George's | 2163 |\n",
    "| 3 | Montgomery | 2044 |\n",
    "| 4 | Baltimore city | 1777 |\n",
    "| 5 | Anne Arundel | 1078 |\n",
    "| ... | ... | ... |\n",
    "| 21 | Talbot | 88 |\n",
    "| 22 | Caroline | 80 |\n",
    "| 23 | Somerset | 74 |\n",
    "| 24 | Kent | 66 |\n",
    "| 25 | Unknown | 18 |\n"
   ]
  },
  {
   "cell_type": "code",
   "metadata": {
    "connectionName": "covid"
   },
   "source": [
    "%%sql\n\n",
    "-- 24. Deaths for a county between two dates\n\n",
    "SELECT date, state, county, cases,  deaths\n",
    "FROM covidcounty\n",
    "WHERE state = 'Maryland'\n",
    "AND county = 'Wicomico'\n",
    "AND date BETWEEN '2020-03-19' AND '2020-04-20';"
   ]
  },
  {
   "cell_type": "markdown",
   "metadata": {},
   "source": [
    "`[Query Result]` 32 rows in set (0.46 sec)\n",
    "| ROW | date | state | county | cases | deaths |\n",
    "| ---: | :--- | :--- | :--- | :--- | :--- |\n",
    "| 1 | 2020-03-20 | Maryland | Wicomico | 1 | 0 |\n",
    "| 2 | 2020-03-21 | Maryland | Wicomico | 2 | 0 |\n",
    "| 3 | 2020-03-22 | Maryland | Wicomico | 2 | 0 |\n",
    "| 4 | 2020-03-23 | Maryland | Wicomico | 4 | 0 |\n",
    "| 5 | 2020-03-24 | Maryland | Wicomico | 4 | 0 |\n",
    "| ... | ... | ... | ... | ... | ... |\n",
    "| 28 | 2020-04-16 | Maryland | Wicomico | 87 | 1 |\n",
    "| 29 | 2020-04-17 | Maryland | Wicomico | 103 | 1 |\n",
    "| 30 | 2020-04-18 | Maryland | Wicomico | 138 | 1 |\n",
    "| 31 | 2020-04-19 | Maryland | Wicomico | 145 | 3 |\n",
    "| 32 | 2020-04-20 | Maryland | Wicomico | 166 | 3 |\n"
   ]
  },
  {
   "cell_type": "code",
   "metadata": {
    "connectionName": "covid"
   },
   "source": [
    "%%sql\n\n",
    "-- 25. Total deaths by county for state between two dates\n\n",
    "SELECT county, SUM(newdeaths::numeric) AS deaths\n",
    "FROM covidcounty\n",
    "WHERE state = 'Maryland'\n",
    "  AND date BETWEEN '2020-03-19' AND '2020-04-20'\n",
    "GROUP BY county;"
   ]
  },
  {
   "cell_type": "markdown",
   "metadata": {},
   "source": [
    "`[Query Result]` 25 rows in set (0.42 sec)\n",
    "| ROW | county | deaths |\n",
    "| ---: | :--- | ---: |\n",
    "| 1 | Allegany | 1 |\n",
    "| 2 | Anne Arundel | 48 |\n",
    "| 3 | Baltimore | 50 |\n",
    "| 4 | Baltimore city | 54 |\n",
    "| 5 | Calvert | 3 |\n",
    "| ... | ... | ... |\n",
    "| 21 | Talbot | 1 |\n",
    "| 22 | Unknown | 78 |\n",
    "| 23 | Washington | 3 |\n",
    "| 24 | Wicomico | 3 |\n",
    "| 25 | Worcester | 0 |\n"
   ]
  },
  {
   "cell_type": "code",
   "metadata": {
    "connectionName": "covid"
   },
   "source": [
    "%%sql\n\n",
    "-- 26. Maximum Cases and Deaths by County and State\n\n",
    "SELECT state, county, MAX(cases) AS cases, MAX(deaths::numeric) AS deaths\n",
    "FROM covidcounty\n",
    "WHERE state = 'Maryland'\n",
    "  AND county = 'Wicomico'\n",
    "GROUP BY state, county;"
   ]
  },
  {
   "cell_type": "markdown",
   "metadata": {},
   "source": [
    "`[Query Result]` 1 row in set (0.15 sec)\n",
    "| ROW | state | county | cases | deaths |\n",
    "| ---: | :--- | :--- | :--- | ---: |\n",
    "| 1 | Maryland | Wicomico | 998 | 328 |\n"
   ]
  },
  {
   "cell_type": "code",
   "metadata": {
    "connectionName": "covid"
   },
   "source": [
    "%%sql\n\n",
    "-- 27. TOTAL DEATHS BY COUNTY FOR STATE(S)\n",
    "SELECT state, county, MAX(cases) AS cases, MAX(deaths::numeric) AS deaths\n",
    "FROM covidcounty\n",
    "WHERE state IN ('Maryland', 'Delaware')\n",
    "GROUP BY state, county;"
   ]
  },
  {
   "cell_type": "markdown",
   "metadata": {},
   "source": [
    "`[Query Result]` 29 rows in set (0.23 sec)\n",
    "| ROW | state | county | cases | deaths |\n",
    "| ---: | :--- | :--- | :--- | ---: |\n",
    "| 1 | Maryland | Howard | 993 | 378 |\n",
    "| 2 | Delaware | New Castle | 9975 | 1424 |\n",
    "| 3 | Maryland | Frederick | 9884 | 525 |\n",
    "| 4 | Maryland | Talbot | 999 | 88 |\n",
    "| 5 | Maryland | Montgomery | 99676 | 2044 |\n",
    "| ... | ... | ... | ... | ... |\n",
    "| 25 | Maryland | Cecil | 998 | 259 |\n",
    "| 26 | Maryland | Kent | 995 | 66 |\n",
    "| 27 | Maryland | Calvert | 9953 | 146 |\n",
    "| 28 | Maryland | Washington | 9962 | 586 |\n",
    "| 29 | Maryland | Charles | 999 | 353 |\n"
   ]
  },
  {
   "cell_type": "code",
   "metadata": {
    "connectionName": "covid"
   },
   "source": [
    "%%sql\n\n",
    "-- 28. FIND DEATHS IN A MONTH FOR A STATE\n",
    "SELECT state, county, SUM(newdeaths::numeric) AS numdeath\n",
    "FROM covidcounty\n",
    "WHERE EXTRACT(MONTH FROM date::date) = 6\n",
    "  AND state = 'Maryland'\n",
    "GROUP BY state, county;"
   ]
  },
  {
   "cell_type": "markdown",
   "metadata": {},
   "source": [
    "`[Query Result]` 25 rows in set (0.15 sec)\n",
    "| ROW | state | county | numdeath |\n",
    "| ---: | :--- | :--- | ---: |\n",
    "| 1 | Maryland | Allegany | 1 |\n",
    "| 2 | Maryland | Anne Arundel | 52 |\n",
    "| 3 | Maryland | Baltimore | 153 |\n",
    "| 4 | Maryland | Baltimore city | 106 |\n",
    "| 5 | Maryland | Calvert | 10 |\n",
    "| ... | ... | ... | ... |\n",
    "| 21 | Maryland | Talbot | 2 |\n",
    "| 22 | Maryland | Unknown | -45 |\n",
    "| 23 | Maryland | Washington | 16 |\n",
    "| 24 | Maryland | Wicomico | 14 |\n",
    "| 25 | Maryland | Worcester | 3 |\n"
   ]
  },
  {
   "cell_type": "code",
   "metadata": {
    "connectionName": "covid"
   },
   "source": [
    "%%sql\n\n",
    "-- 29. DEATHS BY COUNTY BY WEEK\n",
    "SELECT EXTRACT(WEEK FROM date::date) AS wk, SUM(newdeaths::numeric) AS deaths\n",
    "FROM covidcounty\n",
    "WHERE state = 'Maryland'\n",
    "  AND county = 'Wicomico'\n",
    "  AND EXTRACT(YEAR FROM date::date) = 2020\n",
    "GROUP BY wk\n",
    "ORDER BY wk;"
   ]
  },
  {
   "cell_type": "markdown",
   "metadata": {},
   "source": [
    "`[Query Result]` 42 rows in set (0.13 sec)\n",
    "| ROW | wk | deaths |\n",
    "| ---: | ---: | ---: |\n",
    "| 1 | 12 | 0 |\n",
    "| 2 | 13 | 1 |\n",
    "| 3 | 14 | 0 |\n",
    "| 4 | 15 | 0 |\n",
    "| 5 | 16 | 2 |\n",
    "| ... | ... | ... |\n",
    "| 38 | 49 | 1 |\n",
    "| 39 | 50 | 4 |\n",
    "| 40 | 51 | 8 |\n",
    "| 41 | 52 | 3 |\n",
    "| 42 | 53 | 2 |\n"
   ]
  },
  {
   "cell_type": "code",
   "metadata": {
    "connectionName": "covid"
   },
   "source": [
    "%%sql\n\n",
    "-- 30. COMPARE DEATHS BY COUNTY BY WEEK FOR MULTIPLE COUNTIES\n",
    "SELECT t.year, t.wk, t.Suffolkdeaths, t2.Westchesterdeaths\n",
    "FROM\n",
    "    (SELECT EXTRACT(YEAR FROM date::date) AS year,\n",
    "            EXTRACT(WEEK FROM date::date) AS wk,\n",
    "            SUM(newdeaths::numeric) AS Suffolkdeaths\n",
    "    FROM covidcounty\n",
    "    WHERE state = 'New York'\n",
    "    AND county = 'Suffolk'\n",
    "    GROUP BY year, wk\n",
    "    ORDER BY wk, year) AS t,\n\n",
    "    (SELECT EXTRACT(YEAR FROM date::date) AS year,\n",
    "            EXTRACT(WEEK FROM date::date) AS wk,\n",
    "            SUM(newdeaths::numeric) AS Westchesterdeaths\n",
    "    FROM covidcounty\n",
    "    WHERE state = 'New York'\n",
    "    AND county = 'Westchester'\n",
    "    GROUP BY year, wk\n",
    "    ORDER BY wk, year) AS t2\n\n",
    "WHERE t.wk = t2.wk\n",
    "AND t.year = t2.year;"
   ]
  },
  {
   "cell_type": "markdown",
   "metadata": {},
   "source": [
    "`[Query Result]` 116 rows in set (0.27 sec)\n",
    "| ROW | year | wk | suffolkdeaths | westchesterdeaths |\n",
    "| ---: | ---: | ---: | ---: | ---: |\n",
    "| 1 | 2021 | 1 | 112 | 49 |\n",
    "| 2 | 2022 | 1 | 109 | 47 |\n",
    "| 3 | 2021 | 2 | 124 | 59 |\n",
    "| 4 | 2022 | 2 | 97 | 46 |\n",
    "| 5 | 2021 | 3 | 113 | 57 |\n",
    "| ... | ... | ... | ... | ... |\n",
    "| 112 | 2020 | 52 | 79 | 37 |\n",
    "| 113 | 2021 | 52 | 34 | 18 |\n",
    "| 114 | 2022 | 52 | 8 | 13 |\n",
    "| 115 | 2020 | 53 | 48 | 21 |\n",
    "| 116 | 2021 | 53 | 42 | 17 |\n"
   ]
  },
  {
   "cell_type": "code",
   "metadata": {
    "connectionName": "covid"
   },
   "source": [
    "%%sql\n\n",
    "-- 31. Query tables to make sure we have the columns we need\n",
    "-- Query to list columns in 'county' table\n",
    "SELECT column_name, data_type\n",
    "FROM information_schema.columns\n",
    "WHERE table_name = 'county';\n\n",
    "-- Query to list columns in 'covidcounty' table\n",
    "SELECT column_name, data_type\n",
    "FROM information_schema.columns\n",
    "WHERE table_name = 'covidcounty';"
   ]
  },
  {
   "cell_type": "code",
   "metadata": {
    "connectionName": "covid"
   },
   "source": [
    "%%sql\n\n",
    "-- 31. Select NY & NJ covid deaths by county in QGIS\n\n",
    "SELECT county.geometry, county.name AS county, MAX(CAST(covidcounty.deaths AS INTEGER)) AS deaths\n",
    "FROM county, covidcounty\n",
    "WHERE covidcounty.state IN ('New York', 'New Jersey')\n",
    "  AND county.statefp || county.countyfp = covidcounty.fips\n",
    "GROUP BY county.geometry, county.name;"
   ]
  },
  {
   "cell_type": "markdown",
   "metadata": {},
   "source": [
    "`[Query Result]` 76 rows in set (0.20 sec)\n",
    "| ROW | geometry | county | deaths |\n",
    "| ---: | :--- | :--- | ---: |\n",
    "| 1 |  | Albany | 523 |\n",
    "| 2 |  | Allegany | 155 |\n",
    "| 3 |  | Atlantic | 997 |\n",
    "| 4 |  | Bergen | 3458 |\n",
    "| 5 |  | Broome | 520 |\n",
    "| ... | ... | ... | ... |\n",
    "| 72 |  | Washington | 115 |\n",
    "| 73 |  | Wayne | 179 |\n",
    "| 74 |  | Westchester | 2720 |\n",
    "| 75 |  | Wyoming | 84 |\n",
    "| 76 |  | Yates | 40 |\n"
   ]
  },
  {
   "cell_type": "markdown",
   "metadata": {},
   "source": [
    "![Chart](res/2024-06-28-19-58-33.png)"
   ]
  }
 ],
 "metadata": {
  "kernelspec": {
   "display_name": "Python 3",
   "language": "python",
   "name": "python3"
  },
  "language_info": {
   "codemirror_mode": {
    "name": "ipython",
    "version": 3
   },
   "file_extension": ".py",
   "mimetype": "text/x-python",
   "name": "python",
   "nbconvert_exporter": "python",
   "pygments_lexer": "ipython3",
   "version": "3.9.13"
  }
 },
 "nbformat": 4,
 "nbformat_minor": 2
}
